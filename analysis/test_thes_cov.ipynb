{
  "cells": [
    {
      "cell_type": "code",
      "execution_count": 2,
      "metadata": {
        "collapsed": true,
        "pycharm": {
          "is_executing": false
        }
      },
      "outputs": [],
      "source": "from dataset import Dataset\n\ndataset \u003d Dataset()\ndataset.load_task_datasets(*[\u0027adjective-pairs.test\u0027,\u0027noun-pairs.test\u0027,\u0027verb-pairs.test\u0027])"
    },
    {
      "cell_type": "code",
      "execution_count": 4,
      "outputs": [],
      "source": "task_edges \u003d set()\nfor k,v in dataset.tasks.items():\n    task_edges |\u003d set(map(frozenset,v[\u0027X\u0027]))",
      "metadata": {
        "pycharm": {
          "metadata": false,
          "name": "#%%\n",
          "is_executing": false
        }
      }
    },
    {
      "cell_type": "code",
      "execution_count": 6,
      "outputs": [],
      "source": "from syn_ant_classify_task.config import ori_thesauri",
      "metadata": {
        "pycharm": {
          "metadata": false,
          "name": "#%%\n",
          "is_executing": false
        }
      }
    },
    {
      "cell_type": "code",
      "execution_count": 7,
      "outputs": [],
      "source": "syn_edges \u003d set()\nwith open(ori_thesauri[\u0027syn_fname\u0027], \u0027r\u0027) as f_syn:\n    for line in f_syn:\n        word_pair \u003d line.split()\n        syn_edges.add(frozenset(word[3:] for word in word_pair))",
      "metadata": {
        "pycharm": {
          "metadata": false,
          "name": "#%%\n",
          "is_executing": false
        }
      }
    },
    {
      "cell_type": "code",
      "execution_count": 8,
      "outputs": [],
      "source": "inter_edges \u003d task_edges \u0026 syn_edges",
      "metadata": {
        "pycharm": {
          "metadata": false,
          "name": "#%%\n",
          "is_executing": false
        }
      }
    },
    {
      "cell_type": "code",
      "execution_count": 10,
      "outputs": [],
      "source": "ant_edges \u003d set()\nwith open(ori_thesauri[\u0027ant_fname\u0027], \u0027r\u0027) as f_syn:\n    for line in f_syn:\n        word_pair \u003d line.split()\n        ant_edges.add(frozenset(word[3:] for word in word_pair))",
      "metadata": {
        "pycharm": {
          "metadata": false,
          "name": "#%%\n",
          "is_executing": false
        }
      }
    },
    {
      "cell_type": "code",
      "execution_count": 11,
      "outputs": [],
      "source": "inter_ant_edges \u003d task_edges \u0026 ant_edges",
      "metadata": {
        "pycharm": {
          "metadata": false,
          "name": "#%%\n",
          "is_executing": false
        }
      }
    },
    {
      "cell_type": "code",
      "execution_count": 12,
      "outputs": [
        {
          "data": {
            "text/plain": "0.8521031207598372"
          },
          "metadata": {},
          "output_type": "execute_result",
          "execution_count": 12
        }
      ],
      "source": "(len(inter_edges)+len(inter_ant_edges))/len(task_edges)",
      "metadata": {
        "pycharm": {
          "metadata": false,
          "name": "#%%\n",
          "is_executing": false
        }
      }
    },
    {
      "cell_type": "code",
      "execution_count": null,
      "outputs": [],
      "source": "\n",
      "metadata": {
        "pycharm": {
          "metadata": false,
          "name": "#%%\n"
        }
      }
    }
  ],
  "metadata": {
    "language_info": {
      "codemirror_mode": {
        "name": "ipython",
        "version": 2
      },
      "file_extension": ".py",
      "mimetype": "text/x-python",
      "name": "python",
      "nbconvert_exporter": "python",
      "pygments_lexer": "ipython2",
      "version": "2.7.6"
    },
    "kernelspec": {
      "name": "pycharm-efb6ae35",
      "language": "python",
      "display_name": "PyCharm (HRSWE)"
    }
  },
  "nbformat": 4,
  "nbformat_minor": 0
}