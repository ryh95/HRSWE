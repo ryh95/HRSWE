{
  "cells": [
    {
      "cell_type": "code",
      "execution_count": 1,
      "outputs": [],
      "source": "import pickle\nfrom os.path import join",
      "metadata": {
        "pycharm": {
          "metadata": false,
          "name": "#%%\n",
          "is_executing": false
        }
      }
    },
    {
      "cell_type": "code",
      "execution_count": 16,
      "metadata": {
        "collapsed": true,
        "pycharm": {
          "is_executing": false
        }
      },
      "outputs": [],
      "source": "ratios \u003d [0.2,0.3,0.4,0.5]\nmodels \u003d [\u0027ar\u0027, \u0027hrswe\u0027]\n\nadj3_f1s, n3_f1s, verb3_f1s \u003d [], [], []\nfor model in models:\n    adj_f1, n_f1, verb_f1 \u003d [], [], []\n    for r in ratios:\n        ta_dir \u003d join(\u0027results\u0027, \u0027adv\u0027, \u00273\u0027, str(r))\n        with open(join(ta_dir, model + \u0027_results.pickle\u0027), \u0027rb\u0027) as f:\n            res \u003d pickle.load(f)\n        for k,v in res[\u0027test_res\u0027].items():\n            word_type \u003d k.split(\u0027-\u0027)[0]\n            score_type \u003d k.split(\u0027_\u0027)[-1]\n            if score_type \u003d\u003d \u0027f1\u0027:\n                if word_type \u003d\u003d \u0027adjective\u0027:\n                    adj_f1.append(v)\n                elif word_type \u003d\u003d \u0027noun\u0027:\n                    n_f1.append(v)\n                elif word_type \u003d\u003d \u0027verb\u0027:\n                    verb_f1.append(v)\n    adj3_f1s.append(adj_f1)\n    n3_f1s.append(n_f1)\n    verb3_f1s.append(verb_f1)"
    },
    {
      "cell_type": "code",
      "execution_count": 17,
      "outputs": [],
      "source": "ratios \u003d [0.2,0.3,0.4,0.5]\nmodels \u003d [\u0027ar\u0027, \u0027hrswe\u0027]\n\nadj31_f1s, n31_f1s, verb31_f1s \u003d [], [], []\nfor model in models:\n    adj_f1, n_f1, verb_f1 \u003d [], [], []\n    for r in ratios:\n        ta_dir \u003d join(\u0027results\u0027, \u0027adv\u0027, \u00273.1\u0027, str(r))\n        with open(join(ta_dir, model + \u0027_results.pickle\u0027), \u0027rb\u0027) as f:\n            res \u003d pickle.load(f)\n        for k,v in res[\u0027test_res\u0027].items():\n            word_type \u003d k.split(\u0027-\u0027)[0]\n            score_type \u003d k.split(\u0027_\u0027)[-1]\n            if score_type \u003d\u003d \u0027f1\u0027:\n                if word_type \u003d\u003d \u0027adjective\u0027:\n                    adj_f1.append(v)\n                elif word_type \u003d\u003d \u0027noun\u0027:\n                    n_f1.append(v)\n                elif word_type \u003d\u003d \u0027verb\u0027:\n                    verb_f1.append(v)\n    adj31_f1s.append(adj_f1)\n    n31_f1s.append(n_f1)\n    verb31_f1s.append(verb_f1)",
      "metadata": {
        "pycharm": {
          "metadata": false,
          "name": "#%%\n",
          "is_executing": false
        }
      }
    },
    {
      "cell_type": "code",
      "execution_count": 18,
      "outputs": [],
      "source": "ratios \u003d [0.2,0.3,0.4,0.5]\nmodels \u003d [\u0027ar\u0027, \u0027hrswe\u0027]\n\nadj32_f1s, n32_f1s, verb32_f1s \u003d [], [], []\nfor model in models:\n    adj_f1, n_f1, verb_f1 \u003d [], [], []\n    for r in ratios:\n        ta_dir \u003d join(\u0027results\u0027, \u0027adv\u0027, \u00273.2\u0027, str(r))\n        with open(join(ta_dir, model + \u0027_results.pickle\u0027), \u0027rb\u0027) as f:\n            res \u003d pickle.load(f)\n        for k,v in res[\u0027test_res\u0027].items():\n            word_type \u003d k.split(\u0027-\u0027)[0]\n            score_type \u003d k.split(\u0027_\u0027)[-1]\n            if score_type \u003d\u003d \u0027f1\u0027:\n                if word_type \u003d\u003d \u0027adjective\u0027:\n                    adj_f1.append(v)\n                elif word_type \u003d\u003d \u0027noun\u0027:\n                    n_f1.append(v)\n                elif word_type \u003d\u003d \u0027verb\u0027:\n                    verb_f1.append(v)\n    adj32_f1s.append(adj_f1)\n    n32_f1s.append(n_f1)\n    verb32_f1s.append(verb_f1)",
      "metadata": {
        "pycharm": {
          "metadata": false,
          "name": "#%%\n",
          "is_executing": false
        }
      }
    },
    {
      "cell_type": "code",
      "execution_count": 20,
      "outputs": [],
      "source": "outperform_3_adj \u003d [i-j for i,j in zip(adj3_f1s[1],adj3_f1s[0])]",
      "metadata": {
        "pycharm": {
          "metadata": false,
          "name": "#%%\n",
          "is_executing": false
        }
      }
    },
    {
      "cell_type": "code",
      "execution_count": 21,
      "outputs": [],
      "source": "outperform_3_verb \u003d [i-j for i,j in zip(verb3_f1s[1],verb3_f1s[0])]",
      "metadata": {
        "pycharm": {
          "metadata": false,
          "name": "#%%\n",
          "is_executing": false
        }
      }
    },
    {
      "cell_type": "code",
      "execution_count": 22,
      "outputs": [],
      "source": "outperform_3_noun \u003d [i-j for i,j in zip(n3_f1s[1],n3_f1s[0])]",
      "metadata": {
        "pycharm": {
          "metadata": false,
          "name": "#%%\n",
          "is_executing": false
        }
      }
    },
    {
      "cell_type": "code",
      "execution_count": 23,
      "outputs": [],
      "source": "outperform_31_adj \u003d [i-j for i,j in zip(adj31_f1s[1],adj31_f1s[0])]",
      "metadata": {
        "pycharm": {
          "metadata": false,
          "name": "#%%\n",
          "is_executing": false
        }
      }
    },
    {
      "cell_type": "code",
      "execution_count": 24,
      "outputs": [],
      "source": "outperform_31_verb \u003d [i-j for i,j in zip(verb31_f1s[1],verb31_f1s[0])]",
      "metadata": {
        "pycharm": {
          "metadata": false,
          "name": "#%%\n",
          "is_executing": false
        }
      }
    },
    {
      "cell_type": "code",
      "execution_count": 25,
      "outputs": [],
      "source": "outperform_31_noun \u003d [i-j for i,j in zip(n31_f1s[1],n31_f1s[0])]",
      "metadata": {
        "pycharm": {
          "metadata": false,
          "name": "#%%\n",
          "is_executing": false
        }
      }
    },
    {
      "cell_type": "code",
      "execution_count": 26,
      "outputs": [],
      "source": "outperform_32_adj \u003d [i-j for i,j in zip(adj32_f1s[1],adj32_f1s[0])]",
      "metadata": {
        "pycharm": {
          "metadata": false,
          "name": "#%%\n",
          "is_executing": false
        }
      }
    },
    {
      "cell_type": "code",
      "execution_count": 27,
      "outputs": [],
      "source": "outperform_32_verb \u003d [i-j for i,j in zip(verb32_f1s[1],verb32_f1s[0])]",
      "metadata": {
        "pycharm": {
          "metadata": false,
          "name": "#%%\n",
          "is_executing": false
        }
      }
    },
    {
      "cell_type": "code",
      "execution_count": 28,
      "outputs": [],
      "source": "outperform_32_noun \u003d [i-j for i,j in zip(n32_f1s[1],n32_f1s[0])]",
      "metadata": {
        "pycharm": {
          "metadata": false,
          "name": "#%%\n",
          "is_executing": false
        }
      }
    },
    {
      "cell_type": "code",
      "execution_count": 30,
      "outputs": [],
      "source": "hrswe_outperform_task2 \u003d sum(outperform_31_adj+outperform_31_verb+outperform_31_noun+outperform_32_adj)",
      "metadata": {
        "pycharm": {
          "metadata": false,
          "name": "#%%\n",
          "is_executing": false
        }
      }
    },
    {
      "cell_type": "code",
      "execution_count": 35,
      "outputs": [
        {
          "data": {
            "text/plain": "0.20024226531713152"
          },
          "metadata": {},
          "output_type": "execute_result",
          "execution_count": 35
        }
      ],
      "source": "hrswe_outperform_task2",
      "metadata": {
        "pycharm": {
          "metadata": false,
          "name": "#%%\n",
          "is_executing": false
        }
      }
    },
    {
      "cell_type": "code",
      "execution_count": 36,
      "outputs": [],
      "source": "ar_outperform_task2 \u003d sum(outperform_3_adj+outperform_3_noun+outperform_3_verb+outperform_32_verb+outperform_32_noun)",
      "metadata": {
        "pycharm": {
          "metadata": false,
          "name": "#%%\n",
          "is_executing": false
        }
      }
    },
    {
      "cell_type": "code",
      "execution_count": 37,
      "outputs": [
        {
          "data": {
            "text/plain": "-0.49001591946764456"
          },
          "metadata": {},
          "output_type": "execute_result",
          "execution_count": 37
        }
      ],
      "source": "ar_outperform_task2",
      "metadata": {
        "pycharm": {
          "metadata": false,
          "name": "#%%\n",
          "is_executing": false
        }
      }
    },
    {
      "cell_type": "code",
      "execution_count": 38,
      "outputs": [
        {
          "data": {
            "text/plain": "0.19410377171751747"
          },
          "metadata": {},
          "output_type": "execute_result",
          "execution_count": 38
        }
      ],
      "source": "hrswe_outperform_task2 - sum(outperform_32_adj)",
      "metadata": {
        "pycharm": {
          "metadata": false,
          "name": "#%%\n",
          "is_executing": false
        }
      }
    },
    {
      "cell_type": "code",
      "execution_count": 47,
      "outputs": [
        {
          "data": {
            "text/plain": "-0.046696995183118095"
          },
          "metadata": {},
          "output_type": "execute_result",
          "execution_count": 47
        }
      ],
      "source": "min(outperform_3_noun)",
      "metadata": {
        "pycharm": {
          "metadata": false,
          "name": "#%%\n",
          "is_executing": false
        }
      }
    },
    {
      "cell_type": "code",
      "execution_count": 53,
      "outputs": [
        {
          "data": {
            "text/plain": "[-0.011938970990695186,\n -0.046461253281665615,\n -0.04580746799653612,\n -0.046696995183118095]"
          },
          "metadata": {},
          "output_type": "execute_result",
          "execution_count": 53
        }
      ],
      "source": "outperform_3_noun",
      "metadata": {
        "pycharm": {
          "metadata": false,
          "name": "#%%\n",
          "is_executing": false
        }
      }
    },
    {
      "cell_type": "code",
      "execution_count": 56,
      "outputs": [
        {
          "data": {
            "text/plain": "[-0.0296798171241065,\n -0.02333800979595868,\n -0.01747366026655095,\n -0.016076413412706603]"
          },
          "metadata": {},
          "output_type": "execute_result",
          "execution_count": 56
        }
      ],
      "source": "outperform_32_verb",
      "metadata": {
        "pycharm": {
          "metadata": false,
          "name": "#%%\n",
          "is_executing": false
        }
      }
    },
    {
      "cell_type": "code",
      "execution_count": null,
      "outputs": [],
      "source": "\n",
      "metadata": {
        "pycharm": {
          "metadata": false,
          "name": "#%%\n"
        }
      }
    }
  ],
  "metadata": {
    "language_info": {
      "codemirror_mode": {
        "name": "ipython",
        "version": 2
      },
      "file_extension": ".py",
      "mimetype": "text/x-python",
      "name": "python",
      "nbconvert_exporter": "python",
      "pygments_lexer": "ipython2",
      "version": "2.7.6"
    },
    "kernelspec": {
      "name": "pycharm-efb6ae35",
      "language": "python",
      "display_name": "PyCharm (HRSWE)"
    },
    "stem_cell": {
      "cell_type": "raw",
      "source": "",
      "metadata": {
        "pycharm": {
          "metadata": false
        }
      }
    }
  },
  "nbformat": 4,
  "nbformat_minor": 0
}