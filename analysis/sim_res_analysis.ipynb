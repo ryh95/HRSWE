{
  "cells": [
    {
      "cell_type": "code",
      "execution_count": 1,
      "outputs": [],
      "source": "import pickle\nfrom os.path import join",
      "metadata": {
        "pycharm": {
          "metadata": false,
          "name": "#%%\n",
          "is_executing": false
        }
      }
    },
    {
      "cell_type": "code",
      "execution_count": 26,
      "metadata": {
        "collapsed": true,
        "pycharm": {
          "is_executing": false
        }
      },
      "outputs": [],
      "source": "ar_simlex \u003d []\nar_simverb \u003d []\nhrswe_simlex \u003d []\nhrswe_simverb \u003d []"
    },
    {
      "cell_type": "code",
      "execution_count": 19,
      "outputs": [],
      "source": "ratios \u003d [0.2,0.3,0.4,0.5]\nfor r in ratios:\n    ta_dir \u003d join(\u0027results\u0027, \u0027adv\u0027, \u00273\u0027, str(r))\n    with open(join(ta_dir,\u0027ar_results.pickle\u0027), \u0027rb\u0027) as f:\n        ar_res \u003d pickle.load(f)\n    with open(join(ta_dir,\u0027hrswe_results.pickle\u0027), \u0027rb\u0027) as f:\n        hrswe_res \u003d pickle.load(f)\n\n    ar_simlex.append(ar_res[\u0027test_res\u0027][\u0027SIMLEX999\u0027])\n    ar_simverb.append(ar_res[\u0027test_res\u0027][\u0027SIMVERB3000-test\u0027])\n\n    hrswe_simlex.append(hrswe_res[\u0027test_res\u0027][\u0027SIMLEX999\u0027])\n    hrswe_simverb.append(hrswe_res[\u0027test_res\u0027][\u0027SIMVERB3000-test\u0027])",
      "metadata": {
        "pycharm": {
          "metadata": false,
          "name": "#%%\n",
          "is_executing": false
        }
      }
    },
    {
      "cell_type": "code",
      "execution_count": null,
      "outputs": [],
      "source": "outperform_3_lex \u003d [i-j for i,j in zip(hrswe_simlex,ar_simlex)]",
      "metadata": {
        "pycharm": {
          "metadata": false,
          "name": "#%%\n",
          "is_executing": true
        }
      }
    },
    {
      "cell_type": "code",
      "execution_count": 21,
      "outputs": [],
      "source": "outperform_3_verb \u003d [i-j for i,j in zip(hrswe_simverb,ar_simverb)]",
      "metadata": {
        "pycharm": {
          "metadata": false,
          "name": "#%%\n",
          "is_executing": false
        }
      }
    },
    {
      "cell_type": "code",
      "execution_count": 23,
      "outputs": [],
      "source": "for r in ratios:\n    ta_dir \u003d join(\u0027results\u0027, \u0027adv\u0027, \u00273.2\u0027, str(r))\n    with open(join(ta_dir,\u0027ar_results.pickle\u0027), \u0027rb\u0027) as f:\n        ar_res \u003d pickle.load(f)\n    with open(join(ta_dir,\u0027hrswe_results.pickle\u0027), \u0027rb\u0027) as f:\n        hrswe_res \u003d pickle.load(f)\n\n    ar_simlex.append(ar_res[\u0027test_res\u0027][\u0027SIMLEX999\u0027])\n    ar_simverb.append(ar_res[\u0027test_res\u0027][\u0027SIMVERB3000-test\u0027])\n\n    hrswe_simlex.append(hrswe_res[\u0027test_res\u0027][\u0027SIMLEX999\u0027])\n    hrswe_simverb.append(hrswe_res[\u0027test_res\u0027][\u0027SIMVERB3000-test\u0027])",
      "metadata": {
        "pycharm": {
          "metadata": false,
          "name": "#%%\n",
          "is_executing": false
        }
      }
    },
    {
      "cell_type": "code",
      "execution_count": 24,
      "outputs": [],
      "source": "outperform_32_lex \u003d [i-j for i,j in zip(hrswe_simlex,ar_simlex)]",
      "metadata": {
        "pycharm": {
          "metadata": false,
          "name": "#%%\n",
          "is_executing": false
        }
      }
    },
    {
      "cell_type": "code",
      "execution_count": 25,
      "outputs": [],
      "source": "outperform_32_verb \u003d [i-j for i,j in zip(hrswe_simverb,ar_simverb)]",
      "metadata": {
        "pycharm": {
          "metadata": false,
          "name": "#%%\n",
          "is_executing": false
        }
      }
    },
    {
      "cell_type": "code",
      "execution_count": 27,
      "outputs": [],
      "source": "for r in ratios:\n    ta_dir \u003d join(\u0027results\u0027, \u0027adv\u0027, \u00273.1\u0027, str(r))\n    with open(join(ta_dir,\u0027ar_results.pickle\u0027), \u0027rb\u0027) as f:\n        ar_res \u003d pickle.load(f)\n    with open(join(ta_dir,\u0027hrswe_results.pickle\u0027), \u0027rb\u0027) as f:\n        hrswe_res \u003d pickle.load(f)\n\n    ar_simlex.append(ar_res[\u0027test_res\u0027][\u0027SIMLEX999\u0027])\n    ar_simverb.append(ar_res[\u0027test_res\u0027][\u0027SIMVERB3000-test\u0027])\n\n    hrswe_simlex.append(hrswe_res[\u0027test_res\u0027][\u0027SIMLEX999\u0027])\n    hrswe_simverb.append(hrswe_res[\u0027test_res\u0027][\u0027SIMVERB3000-test\u0027])",
      "metadata": {
        "pycharm": {
          "metadata": false,
          "name": "#%%\n",
          "is_executing": false
        }
      }
    },
    {
      "cell_type": "code",
      "execution_count": 28,
      "outputs": [],
      "source": "outperform_31_lex \u003d [i-j for i,j in zip(hrswe_simlex,ar_simlex)]",
      "metadata": {
        "pycharm": {
          "metadata": false,
          "name": "#%%\n",
          "is_executing": false
        }
      }
    },
    {
      "cell_type": "code",
      "execution_count": 29,
      "outputs": [],
      "source": "outperform_31_verb \u003d [i-j for i,j in zip(hrswe_simverb,ar_simverb)]",
      "metadata": {
        "pycharm": {
          "metadata": false,
          "name": "#%%\n",
          "is_executing": false
        }
      }
    },
    {
      "cell_type": "code",
      "execution_count": 39,
      "outputs": [],
      "source": "hrswe_outperform_task1 \u003d sum(outperform_3_lex+outperform_3_verb+outperform_32_lex+outperform_32_verb+outperform_31_verb)",
      "metadata": {
        "pycharm": {
          "metadata": false,
          "name": "#%%\n",
          "is_executing": false
        }
      }
    },
    {
      "cell_type": "code",
      "execution_count": 43,
      "outputs": [
        {
          "data": {
            "text/plain": "0.7210687131004937"
          },
          "metadata": {},
          "output_type": "execute_result",
          "execution_count": 43
        }
      ],
      "source": "hrswe_outperform_task1",
      "metadata": {
        "pycharm": {
          "metadata": false,
          "name": "#%%\n",
          "is_executing": false
        }
      }
    },
    {
      "cell_type": "code",
      "execution_count": 46,
      "outputs": [],
      "source": "ar_outperform_task1 \u003d sum(outperform_31_lex)",
      "metadata": {
        "pycharm": {
          "metadata": false,
          "name": "#%%\n",
          "is_executing": false
        }
      }
    },
    {
      "cell_type": "code",
      "execution_count": 47,
      "outputs": [
        {
          "data": {
            "text/plain": "-0.09502087576868723"
          },
          "metadata": {},
          "output_type": "execute_result",
          "execution_count": 47
        }
      ],
      "source": "ar_outperform_task1",
      "metadata": {
        "pycharm": {
          "metadata": false,
          "name": "#%%\n",
          "is_executing": false
        }
      }
    },
    {
      "cell_type": "code",
      "execution_count": 50,
      "outputs": [
        {
          "data": {
            "text/plain": "-0.027777330015129165"
          },
          "metadata": {},
          "output_type": "execute_result",
          "execution_count": 50
        }
      ],
      "source": "min(outperform_31_lex)",
      "metadata": {
        "pycharm": {
          "metadata": false,
          "name": "#%%\n",
          "is_executing": false
        }
      }
    },
    {
      "cell_type": "code",
      "execution_count": null,
      "outputs": [],
      "source": "\n",
      "metadata": {
        "pycharm": {
          "metadata": false,
          "name": "#%%\n"
        }
      }
    }
  ],
  "metadata": {
    "language_info": {
      "codemirror_mode": {
        "name": "ipython",
        "version": 2
      },
      "file_extension": ".py",
      "mimetype": "text/x-python",
      "name": "python",
      "nbconvert_exporter": "python",
      "pygments_lexer": "ipython2",
      "version": "2.7.6"
    },
    "kernelspec": {
      "name": "pycharm-efb6ae35",
      "language": "python",
      "display_name": "PyCharm (HRSWE)"
    },
    "stem_cell": {
      "cell_type": "raw",
      "source": "",
      "metadata": {
        "pycharm": {
          "metadata": false
        }
      }
    }
  },
  "nbformat": 4,
  "nbformat_minor": 0
}