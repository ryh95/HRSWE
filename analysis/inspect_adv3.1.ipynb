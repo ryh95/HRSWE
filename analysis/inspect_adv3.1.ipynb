{
  "cells": [
    {
      "cell_type": "code",
      "execution_count": 3,
      "metadata": {
        "collapsed": true,
        "pycharm": {
          "is_executing": false
        }
      },
      "outputs": [],
      "source": "from dataset import Dataset\ndataset \u003d Dataset()\ndataset.load_task_datasets(*[\u0027SIMLEX999\u0027,\u0027SIMVERB3000-test\u0027,\u0027SIMVERB500-dev\u0027])\ndataset.load_words()\ndataset.load_embeddings()"
    },
    {
      "cell_type": "code",
      "execution_count": null,
      "outputs": [],
      "source": "lex_edges \u003d set(map(frozenset,dataset.tasks[\u0027SIMLEX999\u0027][\u0027X\u0027]))",
      "metadata": {
        "pycharm": {
          "metadata": false,
          "name": "#%%\n",
          "is_executing": true
        }
      }
    },
    {
      "cell_type": "code",
      "execution_count": 5,
      "outputs": [
        {
          "name": "stdout",
          "text": [
            "lex:  998\n"
          ],
          "output_type": "stream"
        }
      ],
      "source": "print(\u0027lex: \u0027,len(lex_edges))",
      "metadata": {
        "pycharm": {
          "metadata": false,
          "name": "#%%\n",
          "is_executing": false
        }
      }
    },
    {
      "cell_type": "code",
      "execution_count": 6,
      "outputs": [],
      "source": "from word_sim_task.config import ori_thesauri",
      "metadata": {
        "pycharm": {
          "metadata": false,
          "name": "#%%\n",
          "is_executing": false
        }
      }
    },
    {
      "cell_type": "code",
      "execution_count": 7,
      "outputs": [],
      "source": "ant_edges \u003d set()\nwith open(ori_thesauri[\u0027ant_fname\u0027], \u0027r\u0027) as f_ant:\n    for line in f_ant:\n        word_pair \u003d line.split()\n        word_pair \u003d frozenset(word[3:] for word in word_pair)  # remove the \u0027en-\u0027 prefix\n        ant_edges.add(word_pair)",
      "metadata": {
        "pycharm": {
          "metadata": false,
          "name": "#%%\n",
          "is_executing": false
        }
      }
    },
    {
      "cell_type": "code",
      "execution_count": 8,
      "outputs": [
        {
          "name": "stdout",
          "text": [
            "thes syn:  1988\n"
          ],
          "output_type": "stream"
        }
      ],
      "source": "print(\u0027thes syn: \u0027,len(ant_edges))",
      "metadata": {
        "pycharm": {
          "metadata": false,
          "name": "#%%\n",
          "is_executing": false
        }
      }
    },
    {
      "cell_type": "code",
      "execution_count": 11,
      "outputs": [],
      "source": "ant_lex_e \u003d lex_edges \u0026 ant_edges",
      "metadata": {
        "pycharm": {
          "metadata": false,
          "name": "#%%\n",
          "is_executing": false
        }
      }
    },
    {
      "cell_type": "code",
      "execution_count": 13,
      "outputs": [
        {
          "name": "stdout",
          "text": [
            "ant lex edges:  87\n"
          ],
          "output_type": "stream"
        }
      ],
      "source": "print(\u0027ant lex edges: \u0027,len(ant_lex_e))",
      "metadata": {
        "pycharm": {
          "metadata": false,
          "name": "#%%\n",
          "is_executing": false
        }
      }
    },
    {
      "cell_type": "code",
      "execution_count": 14,
      "outputs": [],
      "source": "ant_lex_p,ant_lex_p_y \u003d [],[]\nfor p,y in zip(dataset.tasks[\u0027SIMLEX999\u0027][\u0027X\u0027],dataset.tasks[\u0027SIMLEX999\u0027][\u0027y\u0027]):\n    if frozenset(p) in ant_lex_e:\n        ant_lex_p.append(tuple(p))\n        ant_lex_p_y.append(y)",
      "metadata": {
        "pycharm": {
          "metadata": false,
          "name": "#%%\n",
          "is_executing": false
        }
      }
    },
    {
      "cell_type": "code",
      "execution_count": 15,
      "outputs": [
        {
          "name": "stdout",
          "text": [
            "number of syn lex pairs:  87\n"
          ],
          "output_type": "stream"
        }
      ],
      "source": "print(\u0027number of syn lex pairs: \u0027,len(ant_lex_p))",
      "metadata": {
        "pycharm": {
          "metadata": false,
          "name": "#%%\n",
          "is_executing": false
        }
      }
    },
    {
      "cell_type": "code",
      "execution_count": 16,
      "outputs": [
        {
          "data": {
            "text/plain": "0.08708708708708708"
          },
          "metadata": {},
          "output_type": "execute_result",
          "execution_count": 16
        }
      ],
      "source": "len(ant_lex_p) / len(dataset.tasks[\u0027SIMLEX999\u0027][\u0027X\u0027])",
      "metadata": {
        "pycharm": {
          "metadata": false,
          "name": "#%%\n",
          "is_executing": false
        }
      }
    },
    {
      "cell_type": "code",
      "execution_count": 17,
      "outputs": [],
      "source": "import seaborn as sns",
      "metadata": {
        "pycharm": {
          "metadata": false,
          "name": "#%%\n",
          "is_executing": false
        }
      }
    },
    {
      "cell_type": "code",
      "execution_count": 18,
      "outputs": [],
      "source": "import numpy as np",
      "metadata": {
        "pycharm": {
          "metadata": false,
          "name": "#%%\n",
          "is_executing": false
        }
      }
    },
    {
      "cell_type": "code",
      "execution_count": 19,
      "outputs": [
        {
          "data": {
            "text/plain": "\u003cFigure size 432x288 with 1 Axes\u003e",
            "image/png": "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\u003d\n"
          },
          "metadata": {
            "needs_background": "light"
          },
          "output_type": "display_data"
        }
      ],
      "source": "sns.distplot(ant_lex_p_y);",
      "metadata": {
        "pycharm": {
          "metadata": false,
          "name": "#%%\n",
          "is_executing": false
        }
      }
    },
    {
      "cell_type": "code",
      "execution_count": 20,
      "outputs": [
        {
          "name": "stdout",
          "text": [
            "number of bad thes syn pairs:  76\n"
          ],
          "output_type": "stream"
        }
      ],
      "source": "print(\u0027number of bad thes syn pairs: \u0027,len(list(filter(lambda x:x\u003c3,ant_lex_p_y))))",
      "metadata": {
        "pycharm": {
          "metadata": false,
          "name": "#%%\n",
          "is_executing": false
        }
      }
    },
    {
      "cell_type": "code",
      "execution_count": null,
      "outputs": [],
      "source": "\n",
      "metadata": {
        "pycharm": {
          "metadata": false,
          "name": "#%%\n"
        }
      }
    }
  ],
  "metadata": {
    "language_info": {
      "codemirror_mode": {
        "name": "ipython",
        "version": 2
      },
      "file_extension": ".py",
      "mimetype": "text/x-python",
      "name": "python",
      "nbconvert_exporter": "python",
      "pygments_lexer": "ipython2",
      "version": "2.7.6"
    },
    "kernelspec": {
      "name": "pycharm-efb6ae35",
      "language": "python",
      "display_name": "PyCharm (HRSWE)"
    }
  },
  "nbformat": 4,
  "nbformat_minor": 0
}