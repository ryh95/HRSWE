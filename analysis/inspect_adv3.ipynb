{
  "cells": [
    {
      "cell_type": "code",
      "execution_count": 1,
      "metadata": {
        "collapsed": true,
        "pycharm": {
          "is_executing": false
        }
      },
      "outputs": [],
      "source": "from dataset import Dataset\ndataset \u003d Dataset()\ndataset.load_task_datasets(*[\u0027SIMLEX999\u0027,\u0027SIMVERB3000-test\u0027,\u0027SIMVERB500-dev\u0027])\ndataset.load_words()\ndataset.load_embeddings()"
    },
    {
      "cell_type": "code",
      "execution_count": 2,
      "outputs": [],
      "source": "lex_edges \u003d set(map(frozenset,dataset.tasks[\u0027SIMLEX999\u0027][\u0027X\u0027]))",
      "metadata": {
        "pycharm": {
          "metadata": false,
          "name": "#%%\n",
          "is_executing": false
        }
      }
    },
    {
      "cell_type": "code",
      "execution_count": 3,
      "outputs": [
        {
          "name": "stdout",
          "text": [
            "lex:  998\n"
          ],
          "output_type": "stream"
        }
      ],
      "source": "print(\u0027lex: \u0027,len(lex_edges))",
      "metadata": {
        "pycharm": {
          "metadata": false,
          "name": "#%%\n",
          "is_executing": false
        }
      }
    },
    {
      "cell_type": "code",
      "execution_count": 4,
      "outputs": [],
      "source": "from word_sim_task.config import ori_thesauri",
      "metadata": {
        "pycharm": {
          "metadata": false,
          "name": "#%%\n",
          "is_executing": false
        }
      }
    },
    {
      "cell_type": "code",
      "execution_count": 9,
      "outputs": [],
      "source": "syn_edges \u003d set()\nsyn_pairs \u003d set()\nwith open(ori_thesauri[\u0027syn_fname\u0027], \u0027r\u0027) as f_syn:\n    for line in f_syn:\n        word_pair \u003d line.split()\n        syn_edges.add(frozenset(word[3:] for word in word_pair))\n        syn_pairs.add(tuple(word[3:] for word in word_pair))",
      "metadata": {
        "pycharm": {
          "metadata": false,
          "name": "#%%\n",
          "is_executing": false
        }
      }
    },
    {
      "cell_type": "code",
      "execution_count": 6,
      "outputs": [
        {
          "name": "stdout",
          "text": [
            "thes syn:  13013\n"
          ],
          "output_type": "stream"
        }
      ],
      "source": "print(\u0027thes syn: \u0027,len(syn_edges))",
      "metadata": {
        "pycharm": {
          "metadata": false,
          "name": "#%%\n",
          "is_executing": false
        }
      }
    },
    {
      "cell_type": "code",
      "execution_count": 7,
      "outputs": [],
      "source": "syn_lex_e \u003d lex_edges \u0026 syn_edges",
      "metadata": {
        "pycharm": {
          "metadata": false,
          "name": "#%%\n",
          "is_executing": false
        }
      }
    },
    {
      "cell_type": "code",
      "execution_count": 10,
      "outputs": [
        {
          "name": "stdout",
          "text": [
            "syn lex edges:  350\n17885\n"
          ],
          "output_type": "stream"
        }
      ],
      "source": "print(\u0027syn lex edges: \u0027,len(syn_lex_e))\nprint(len(syn_pairs))",
      "metadata": {
        "pycharm": {
          "metadata": false,
          "name": "#%%\n",
          "is_executing": false
        }
      }
    },
    {
      "cell_type": "code",
      "execution_count": 21,
      "outputs": [],
      "source": "syn_lex_p,syn_lex_p_y \u003d [],[]\nfor p,y in zip(dataset.tasks[\u0027SIMLEX999\u0027][\u0027X\u0027],dataset.tasks[\u0027SIMLEX999\u0027][\u0027y\u0027]):\n    if frozenset(p) in syn_lex_e:\n        syn_lex_p.append(tuple(p))\n        syn_lex_p_y.append(y)",
      "metadata": {
        "pycharm": {
          "metadata": false,
          "name": "#%%\n",
          "is_executing": false
        }
      }
    },
    {
      "cell_type": "code",
      "execution_count": 11,
      "outputs": [],
      "source": "syn_lex_p,syn_lex_p_y \u003d [],[]\nfor p in syn_pairs:\n    if frozenset(p) in syn_lex_e:\n        syn_lex_p.append(tuple(p))",
      "metadata": {
        "pycharm": {
          "metadata": false,
          "name": "#%%\n",
          "is_executing": false
        }
      }
    },
    {
      "cell_type": "code",
      "execution_count": 12,
      "outputs": [
        {
          "data": {
            "text/plain": "538"
          },
          "metadata": {},
          "output_type": "execute_result",
          "execution_count": 12
        }
      ],
      "source": "len(syn_lex_p)",
      "metadata": {
        "pycharm": {
          "metadata": false,
          "name": "#%%\n",
          "is_executing": false
        }
      }
    },
    {
      "cell_type": "code",
      "execution_count": null,
      "outputs": [],
      "source": "print(\u0027number of syn lex pairs: \u0027,len(syn_lex_p))",
      "metadata": {
        "pycharm": {
          "metadata": false,
          "name": "#%%\n"
        }
      }
    },
    {
      "cell_type": "code",
      "execution_count": 23,
      "outputs": [
        {
          "data": {
            "text/plain": "0.35035035035035034"
          },
          "metadata": {},
          "output_type": "execute_result",
          "execution_count": 23
        }
      ],
      "source": "len(syn_lex_p) / len(dataset.tasks[\u0027SIMLEX999\u0027][\u0027X\u0027])",
      "metadata": {
        "pycharm": {
          "metadata": false,
          "name": "#%%\n",
          "is_executing": false
        }
      }
    },
    {
      "cell_type": "code",
      "execution_count": 24,
      "outputs": [],
      "source": "import seaborn as sns",
      "metadata": {
        "pycharm": {
          "metadata": false,
          "name": "#%%\n",
          "is_executing": false
        }
      }
    },
    {
      "cell_type": "code",
      "execution_count": 26,
      "outputs": [],
      "source": "import numpy as np",
      "metadata": {
        "pycharm": {
          "metadata": false,
          "name": "#%%\n",
          "is_executing": false
        }
      }
    },
    {
      "cell_type": "code",
      "execution_count": 28,
      "outputs": [
        {
          "data": {
            "text/plain": "\u003cFigure size 432x288 with 1 Axes\u003e",
            "image/png": "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\u003d\n"
          },
          "metadata": {
            "needs_background": "light"
          },
          "output_type": "display_data"
        }
      ],
      "source": "sns.distplot(syn_lex_p_y);",
      "metadata": {
        "pycharm": {
          "metadata": false,
          "name": "#%%\n",
          "is_executing": false
        }
      }
    },
    {
      "cell_type": "code",
      "execution_count": 34,
      "outputs": [
        {
          "name": "stdout",
          "text": [
            "number of bad thes syn pairs:  14\n"
          ],
          "output_type": "stream"
        }
      ],
      "source": "print(\u0027number of bad thes syn pairs: \u0027,len(list(filter(lambda x:x\u003c3,syn_lex_p_y))))",
      "metadata": {
        "pycharm": {
          "metadata": false,
          "name": "#%%\n",
          "is_executing": false
        }
      }
    },
    {
      "cell_type": "code",
      "execution_count": 31,
      "outputs": [
        {
          "data": {
            "text/plain": "dict_keys([\u0027SIMLEX999\u0027, \u0027SIMVERB3000-test\u0027, \u0027SIMVERB500-dev\u0027])"
          },
          "metadata": {},
          "output_type": "execute_result",
          "execution_count": 31
        }
      ],
      "source": "dataset.tasks.keys()",
      "metadata": {
        "pycharm": {
          "metadata": false,
          "name": "#%%\n",
          "is_executing": false
        }
      }
    },
    {
      "cell_type": "code",
      "execution_count": 32,
      "outputs": [],
      "source": "verbt_edges \u003d set(map(frozenset,dataset.tasks[\u0027SIMVERB3000-test\u0027][\u0027X\u0027]))",
      "metadata": {
        "pycharm": {
          "metadata": false,
          "name": "#%%\n",
          "is_executing": false
        }
      }
    },
    {
      "cell_type": "code",
      "execution_count": 33,
      "outputs": [],
      "source": "syn_verbt_e \u003d verbt_edges \u0026 syn_edges",
      "metadata": {
        "pycharm": {
          "metadata": false,
          "name": "#%%\n",
          "is_executing": false
        }
      }
    },
    {
      "cell_type": "code",
      "execution_count": 37,
      "outputs": [],
      "source": "syn_verbt_p,syn_verbt_p_y \u003d [],[]\nfor p,y in zip(dataset.tasks[\u0027SIMVERB3000-test\u0027][\u0027X\u0027],dataset.tasks[\u0027SIMVERB3000-test\u0027][\u0027y\u0027]):\n    if frozenset(p) in syn_verbt_e:\n        syn_verbt_p.append(tuple(p))\n        syn_verbt_p_y.append(y)",
      "metadata": {
        "pycharm": {
          "metadata": false,
          "name": "#%%\n",
          "is_executing": false
        }
      }
    },
    {
      "cell_type": "code",
      "execution_count": 38,
      "outputs": [
        {
          "name": "stdout",
          "text": [
            "number of syn verbt pairs:  1235\n"
          ],
          "output_type": "stream"
        }
      ],
      "source": "print(\u0027number of syn verbt pairs: \u0027,len(syn_verbt_p))",
      "metadata": {
        "pycharm": {
          "metadata": false,
          "name": "#%%\n",
          "is_executing": false
        }
      }
    },
    {
      "cell_type": "code",
      "execution_count": 39,
      "outputs": [
        {
          "data": {
            "text/plain": "0.4116666666666667"
          },
          "metadata": {},
          "output_type": "execute_result",
          "execution_count": 39
        }
      ],
      "source": "len(syn_verbt_p) / len(dataset.tasks[\u0027SIMVERB3000-test\u0027][\u0027X\u0027])",
      "metadata": {
        "pycharm": {
          "metadata": false,
          "name": "#%%\n",
          "is_executing": false
        }
      }
    },
    {
      "cell_type": "code",
      "execution_count": 40,
      "outputs": [
        {
          "data": {
            "text/plain": "\u003cFigure size 432x288 with 1 Axes\u003e",
            "image/png": "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\u003d\n"
          },
          "metadata": {
            "needs_background": "light"
          },
          "output_type": "display_data"
        }
      ],
      "source": "sns.distplot(syn_verbt_p_y);",
      "metadata": {
        "pycharm": {
          "metadata": false,
          "name": "#%%\n",
          "is_executing": false
        }
      }
    },
    {
      "cell_type": "code",
      "execution_count": 13,
      "outputs": [],
      "source": "dataset \u003d Dataset()\ndataset.load_task_datasets(*[\u0027adjective-pairs.val\u0027,\u0027noun-pairs.val\u0027,\u0027verb-pairs.val\u0027,\n                            \u0027adjective-pairs.test\u0027,\u0027noun-pairs.test\u0027,\u0027verb-pairs.test\u0027])\ndataset.load_words()\ndataset.load_embeddings()",
      "metadata": {
        "pycharm": {
          "metadata": false,
          "name": "#%%\n",
          "is_executing": false
        }
      }
    },
    {
      "cell_type": "code",
      "execution_count": 14,
      "outputs": [],
      "source": "adjt_edges \u003d set(map(frozenset,dataset.tasks[\u0027adjective-pairs.test\u0027][\u0027X\u0027]))",
      "metadata": {
        "pycharm": {
          "metadata": false,
          "name": "#%%\n",
          "is_executing": false
        }
      }
    },
    {
      "cell_type": "code",
      "execution_count": 19,
      "outputs": [
        {
          "data": {
            "text/plain": "1878"
          },
          "metadata": {},
          "output_type": "execute_result",
          "execution_count": 19
        }
      ],
      "source": "len(adjt_edges)",
      "metadata": {
        "pycharm": {
          "metadata": false,
          "name": "#%%\n",
          "is_executing": false
        }
      }
    },
    {
      "cell_type": "code",
      "execution_count": null,
      "outputs": [],
      "source": "from syn_ant_classify_task.config import ori_thesauri",
      "metadata": {
        "pycharm": {
          "metadata": false,
          "name": "#%%\n"
        }
      }
    },
    {
      "cell_type": "code",
      "execution_count": 16,
      "outputs": [],
      "source": "syn_edges \u003d set()\nwith open(ori_thesauri[\u0027syn_fname\u0027], \u0027r\u0027) as f_syn:\n    for line in f_syn:\n        word_pair \u003d line.split()\n        word_pair \u003d frozenset(word[3:] for word in word_pair)  # remove the \u0027en-\u0027 prefix\n        syn_edges.add(word_pair)",
      "metadata": {
        "pycharm": {
          "metadata": false,
          "name": "#%%\n",
          "is_executing": false
        }
      }
    },
    {
      "cell_type": "code",
      "execution_count": 17,
      "outputs": [
        {
          "name": "stdout",
          "text": [
            "thes syn:  52116\n"
          ],
          "output_type": "stream"
        }
      ],
      "source": "print(\u0027thes syn: \u0027,len(syn_edges))",
      "metadata": {
        "pycharm": {
          "metadata": false,
          "name": "#%%\n",
          "is_executing": false
        }
      }
    },
    {
      "cell_type": "code",
      "execution_count": 18,
      "outputs": [],
      "source": "syn_adjt_e \u003d adjt_edges \u0026 syn_edges",
      "metadata": {
        "pycharm": {
          "metadata": false,
          "name": "#%%\n",
          "is_executing": false
        }
      }
    },
    {
      "cell_type": "code",
      "execution_count": 20,
      "outputs": [
        {
          "data": {
            "text/plain": "857"
          },
          "metadata": {},
          "output_type": "execute_result",
          "execution_count": 20
        }
      ],
      "source": "len(syn_adjt_e)",
      "metadata": {
        "pycharm": {
          "metadata": false,
          "name": "#%%\n",
          "is_executing": false
        }
      }
    },
    {
      "cell_type": "code",
      "execution_count": 21,
      "outputs": [],
      "source": "syn_adjt_p,syn_adjt_p_y \u003d [],[]\nfor p,y in zip(dataset.tasks[\u0027adjective-pairs.test\u0027][\u0027X\u0027],dataset.tasks[\u0027adjective-pairs.test\u0027][\u0027y\u0027]):\n    if frozenset(p) in syn_adjt_e:\n        syn_adjt_p.append(tuple(p))\n        syn_adjt_p_y.append(y)",
      "metadata": {
        "pycharm": {
          "metadata": false,
          "name": "#%%\n",
          "is_executing": false
        }
      }
    },
    {
      "cell_type": "code",
      "execution_count": 22,
      "outputs": [
        {
          "name": "stdout",
          "text": [
            "number of syn lex pairs:  896\n"
          ],
          "output_type": "stream"
        }
      ],
      "source": "print(\u0027number of syn lex pairs: \u0027,len(syn_adjt_p))",
      "metadata": {
        "pycharm": {
          "metadata": false,
          "name": "#%%\n",
          "is_executing": false
        }
      }
    },
    {
      "cell_type": "code",
      "execution_count": 52,
      "outputs": [
        {
          "data": {
            "text/plain": "0.4511581067472306"
          },
          "metadata": {},
          "output_type": "execute_result",
          "execution_count": 52
        }
      ],
      "source": "len(syn_adjt_p) / len(dataset.tasks[\u0027adjective-pairs.test\u0027][\u0027X\u0027])",
      "metadata": {
        "pycharm": {
          "metadata": false,
          "name": "#%%\n",
          "is_executing": false
        }
      }
    },
    {
      "cell_type": "code",
      "execution_count": 53,
      "outputs": [
        {
          "data": {
            "text/plain": "\u003cFigure size 432x288 with 1 Axes\u003e",
            "image/png": "[encoded data removed]"
          },
          "metadata": {
            "needs_background": "light"
          },
          "output_type": "display_data"
        }
      ],
      "source": "sns.distplot(syn_adjt_p_y);",
      "metadata": {
        "pycharm": {
          "metadata": false,
          "name": "#%%\n",
          "is_executing": false
        }
      }
    },
    {
      "cell_type": "code",
      "execution_count": 23,
      "outputs": [],
      "source": "\nant_edges \u003d set()\nwith open(ori_thesauri[\u0027ant_fname\u0027], \u0027r\u0027) as f_syn:\n    for line in f_syn:\n        word_pair \u003d line.split()\n        word_pair \u003d frozenset(word[3:] for word in word_pair)  # remove the \u0027en-\u0027 prefix\n        ant_edges.add(word_pair)",
      "metadata": {
        "pycharm": {
          "metadata": false,
          "name": "#%%\n",
          "is_executing": false
        }
      }
    },
    {
      "cell_type": "code",
      "execution_count": 24,
      "outputs": [
        {
          "data": {
            "text/plain": "17153"
          },
          "metadata": {},
          "output_type": "execute_result",
          "execution_count": 24
        }
      ],
      "source": "len(ant_edges)",
      "metadata": {
        "pycharm": {
          "metadata": false,
          "name": "#%%\n",
          "is_executing": false
        }
      }
    },
    {
      "cell_type": "code",
      "execution_count": 28,
      "outputs": [],
      "source": "ant_adjt_e \u003d adjt_edges \u0026 ant_edges ",
      "metadata": {
        "pycharm": {
          "metadata": false,
          "name": "#%%\n",
          "is_executing": false
        }
      }
    },
    {
      "cell_type": "code",
      "execution_count": 29,
      "outputs": [
        {
          "data": {
            "text/plain": "868"
          },
          "metadata": {},
          "output_type": "execute_result",
          "execution_count": 29
        }
      ],
      "source": "len(ant_adjt_e)",
      "metadata": {
        "pycharm": {
          "metadata": false,
          "name": "#%%\n",
          "is_executing": false
        }
      }
    },
    {
      "cell_type": "code",
      "execution_count": 30,
      "outputs": [],
      "source": "\nant_adjt_p,ant_adjt_p_y \u003d [],[]\nfor p,y in zip(dataset.tasks[\u0027adjective-pairs.test\u0027][\u0027X\u0027],dataset.tasks[\u0027adjective-pairs.test\u0027][\u0027y\u0027]):\n    if frozenset(p) in ant_adjt_e:\n        ant_adjt_p.append(tuple(p))\n        ant_adjt_p_y.append(y)",
      "metadata": {
        "pycharm": {
          "metadata": false,
          "name": "#%%\n",
          "is_executing": false
        }
      }
    },
    {
      "cell_type": "code",
      "execution_count": 32,
      "outputs": [],
      "source": "import seaborn as sns",
      "metadata": {
        "pycharm": {
          "metadata": false,
          "name": "#%%\n",
          "is_executing": false
        }
      }
    },
    {
      "cell_type": "code",
      "execution_count": 33,
      "outputs": [
        {
          "data": {
            "text/plain": "\u003cmatplotlib.axes._subplots.AxesSubplot at 0x7f9b396c6090\u003e"
          },
          "metadata": {},
          "output_type": "execute_result",
          "execution_count": 33
        },
        {
          "data": {
            "text/plain": "\u003cFigure size 432x288 with 1 Axes\u003e",
            "image/png": "[encoded data removed]"
          },
          "metadata": {
            "needs_background": "light"
          },
          "output_type": "display_data"
        }
      ],
      "source": "sns.distplot(ant_adjt_p_y)",
      "metadata": {
        "pycharm": {
          "metadata": false,
          "name": "#%%\n",
          "is_executing": false
        }
      }
    },
    {
      "cell_type": "code",
      "execution_count": null,
      "outputs": [],
      "source": "\n",
      "metadata": {
        "pycharm": {
          "metadata": false,
          "name": "#%%\n"
        }
      }
    }
  ],
  "metadata": {
    "language_info": {
      "codemirror_mode": {
        "name": "ipython",
        "version": 2
      },
      "file_extension": ".py",
      "mimetype": "text/x-python",
      "name": "python",
      "nbconvert_exporter": "python",
      "pygments_lexer": "ipython2",
      "version": "2.7.6"
    },
    "kernelspec": {
      "name": "pycharm-efb6ae35",
      "language": "python",
      "display_name": "PyCharm (HRSWE)"
    }
  },
  "nbformat": 4,
  "nbformat_minor": 0
}