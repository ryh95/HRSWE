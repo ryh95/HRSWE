{
  "cells": [
    {
      "cell_type": "code",
      "execution_count": 2,
      "metadata": {
        "collapsed": true,
        "pycharm": {
          "is_executing": false
        }
      },
      "outputs": [],
      "source": "from dataset import Dataset\ndataset \u003d Dataset()\ndataset.load_task_datasets(*[\u0027adjective-pairs.val\u0027,\u0027noun-pairs.val\u0027,\u0027verb-pairs.val\u0027,\n                            \u0027adjective-pairs.test\u0027,\u0027noun-pairs.test\u0027,\u0027verb-pairs.test\u0027])\ndataset.load_words()\ndataset.load_embeddings()"
    },
    {
      "cell_type": "code",
      "execution_count": 4,
      "outputs": [
        {
          "data": {
            "text/plain": "993"
          },
          "metadata": {},
          "output_type": "execute_result",
          "execution_count": 4
        }
      ],
      "source": "sum(dataset.tasks[\u0027adjective-pairs.test\u0027][\u0027y\u0027])",
      "metadata": {
        "pycharm": {
          "metadata": false,
          "name": "#%%\n",
          "is_executing": false
        }
      }
    },
    {
      "cell_type": "code",
      "execution_count": 5,
      "outputs": [
        {
          "data": {
            "text/plain": "(1986,)"
          },
          "metadata": {},
          "output_type": "execute_result",
          "execution_count": 5
        }
      ],
      "source": "dataset.tasks[\u0027adjective-pairs.test\u0027][\u0027y\u0027].shape",
      "metadata": {
        "pycharm": {
          "metadata": false,
          "name": "#%%\n",
          "is_executing": false
        }
      }
    },
    {
      "cell_type": "code",
      "execution_count": 6,
      "outputs": [
        {
          "data": {
            "text/plain": "510"
          },
          "metadata": {},
          "output_type": "execute_result",
          "execution_count": 6
        }
      ],
      "source": "sum(dataset.tasks[\u0027noun-pairs.test\u0027][\u0027y\u0027])",
      "metadata": {
        "pycharm": {
          "metadata": false,
          "name": "#%%\n",
          "is_executing": false
        }
      }
    },
    {
      "cell_type": "code",
      "execution_count": 7,
      "outputs": [
        {
          "data": {
            "text/plain": "(1020,)"
          },
          "metadata": {},
          "output_type": "execute_result",
          "execution_count": 7
        }
      ],
      "source": "dataset.tasks[\u0027noun-pairs.test\u0027][\u0027y\u0027].shape",
      "metadata": {
        "pycharm": {
          "metadata": false,
          "name": "#%%\n",
          "is_executing": false
        }
      }
    },
    {
      "cell_type": "code",
      "execution_count": 8,
      "outputs": [],
      "source": "import seaborn as sns",
      "metadata": {
        "pycharm": {
          "metadata": false,
          "name": "#%%\n",
          "is_executing": false
        }
      }
    },
    {
      "cell_type": "code",
      "execution_count": 14,
      "outputs": [
        {
          "data": {
            "text/plain": "\u003cFigure size 432x288 with 1 Axes\u003e",
            "image/png": "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\u003d\u003d\n"
          },
          "metadata": {
            "needs_background": "light"
          },
          "output_type": "display_data"
        }
      ],
      "source": "sns.distplot(dataset.tasks[\u0027adjective-pairs.val\u0027][\u0027y\u0027]);",
      "metadata": {
        "pycharm": {
          "metadata": false,
          "name": "#%%\n",
          "is_executing": false
        }
      }
    },
    {
      "cell_type": "code",
      "execution_count": 17,
      "outputs": [
        {
          "data": {
            "text/plain": "91"
          },
          "metadata": {},
          "output_type": "execute_result",
          "execution_count": 17
        }
      ],
      "source": "sum(dataset.tasks[\u0027verb-pairs.val\u0027][\u0027y\u0027])",
      "metadata": {
        "pycharm": {
          "metadata": false,
          "name": "#%%\n",
          "is_executing": false
        }
      }
    },
    {
      "cell_type": "code",
      "execution_count": 18,
      "outputs": [],
      "source": "\ndataset \u003d Dataset()\ndataset.load_task_datasets(*[\u0027SIMLEX999\u0027,\u0027SIMVERB3000-test\u0027,\u0027SIMVERB500-dev\u0027])",
      "metadata": {
        "pycharm": {
          "metadata": false,
          "name": "#%%\n",
          "is_executing": false
        }
      }
    },
    {
      "cell_type": "code",
      "execution_count": 23,
      "outputs": [
        {
          "data": {
            "text/plain": "\u003cmatplotlib.axes._subplots.AxesSubplot at 0x7fdd7cf1fdd0\u003e"
          },
          "metadata": {},
          "output_type": "execute_result",
          "execution_count": 23
        },
        {
          "data": {
            "text/plain": "\u003cFigure size 432x288 with 1 Axes\u003e",
            "image/png": "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\u003d\n"
          },
          "metadata": {
            "needs_background": "light"
          },
          "output_type": "display_data"
        }
      ],
      "source": "sns.distplot(dataset.tasks[\u0027SIMLEX999\u0027][\u0027y\u0027]) ",
      "metadata": {
        "pycharm": {
          "metadata": false,
          "name": "#%%\n",
          "is_executing": false
        }
      }
    },
    {
      "cell_type": "code",
      "execution_count": 26,
      "outputs": [
        {
          "data": {
            "text/plain": "440"
          },
          "metadata": {},
          "output_type": "execute_result",
          "execution_count": 26
        }
      ],
      "source": "sum(dataset.tasks[\u0027SIMLEX999\u0027][\u0027y\u0027]\u003c4) ",
      "metadata": {
        "pycharm": {
          "metadata": false,
          "name": "#%%\n",
          "is_executing": false
        }
      }
    },
    {
      "cell_type": "code",
      "execution_count": 27,
      "outputs": [
        {
          "data": {
            "text/plain": "322"
          },
          "metadata": {},
          "output_type": "execute_result",
          "execution_count": 27
        }
      ],
      "source": "sum(dataset.tasks[\u0027SIMLEX999\u0027][\u0027y\u0027]\u003e6)",
      "metadata": {
        "pycharm": {
          "metadata": false,
          "name": "#%%\n",
          "is_executing": false
        }
      }
    },
    {
      "cell_type": "code",
      "execution_count": 30,
      "outputs": [
        {
          "data": {
            "text/plain": "\u003cmatplotlib.axes._subplots.AxesSubplot at 0x7fdd85d24250\u003e"
          },
          "metadata": {},
          "output_type": "execute_result",
          "execution_count": 30
        },
        {
          "data": {
            "text/plain": "\u003cFigure size 432x288 with 1 Axes\u003e",
            "image/png": "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\u003d\n"
          },
          "metadata": {
            "needs_background": "light"
          },
          "output_type": "display_data"
        }
      ],
      "source": "\nsns.distplot(dataset.tasks[\u0027SIMVERB3000-test\u0027][\u0027y\u0027])",
      "metadata": {
        "pycharm": {
          "metadata": false,
          "name": "#%%\n",
          "is_executing": false
        }
      }
    },
    {
      "cell_type": "code",
      "execution_count": 31,
      "outputs": [
        {
          "data": {
            "text/plain": "1396"
          },
          "metadata": {},
          "output_type": "execute_result",
          "execution_count": 31
        }
      ],
      "source": "sum(dataset.tasks[\u0027SIMVERB3000-test\u0027][\u0027y\u0027]\u003c4) ",
      "metadata": {
        "pycharm": {
          "metadata": false,
          "name": "#%%\n",
          "is_executing": false
        }
      }
    },
    {
      "cell_type": "code",
      "execution_count": 32,
      "outputs": [
        {
          "data": {
            "text/plain": "878"
          },
          "metadata": {},
          "output_type": "execute_result",
          "execution_count": 32
        }
      ],
      "source": "sum(dataset.tasks[\u0027SIMVERB3000-test\u0027][\u0027y\u0027]\u003e6)",
      "metadata": {
        "pycharm": {
          "metadata": false,
          "name": "#%%\n",
          "is_executing": false
        }
      }
    },
    {
      "cell_type": "code",
      "execution_count": null,
      "outputs": [],
      "source": "\n",
      "metadata": {
        "pycharm": {
          "metadata": false,
          "name": "#%%\n"
        }
      }
    }
  ],
  "metadata": {
    "language_info": {
      "codemirror_mode": {
        "name": "ipython",
        "version": 2
      },
      "file_extension": ".py",
      "mimetype": "text/x-python",
      "name": "python",
      "nbconvert_exporter": "python",
      "pygments_lexer": "ipython2",
      "version": "2.7.6"
    },
    "kernelspec": {
      "name": "pycharm-efb6ae35",
      "language": "python",
      "display_name": "PyCharm (HRSWE)"
    }
  },
  "nbformat": 4,
  "nbformat_minor": 0
}