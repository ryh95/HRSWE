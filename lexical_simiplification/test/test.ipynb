{
 "cells": [
  {
   "cell_type": "code",
   "execution_count": 1,
   "metadata": {
    "collapsed": true,
    "pycharm": {
     "is_executing": false
    }
   },
   "outputs": [],
   "source": [
    "from lexical_simiplification.helpers import text_embeddings\n",
    "from pathlib import Path"
   ]
  },
  {
   "cell_type": "code",
   "execution_count": 2,
   "outputs": [],
   "source": [
    "fembs = Path('data/embs/glove.840B.300d.txt')"
   ],
   "metadata": {
    "collapsed": false,
    "pycharm": {
     "name": "#%%\n",
     "is_executing": false
    }
   }
  },
  {
   "cell_type": "code",
   "execution_count": 4,
   "outputs": [
    {
     "name": "stdout",
     "text": [
      "Loading embeddings: 1000\n",
      "Loading embeddings: 2000\n",
      "Loading embeddings: 3000\n",
      "Loading embeddings: 4000\n",
      "Loading embeddings: 5000\n",
      "Loading embeddings: 6000\n",
      "Loading embeddings: 7000\n",
      "Loading embeddings: 8000\n",
      "Loading embeddings: 9000\n",
      "Loading embeddings: 10000\n",
      "Loading embeddings: 11000\n",
      "Loading embeddings: 12000\n",
      "Loading embeddings: 13000\n",
      "Loading embeddings: 14000\n",
      "hold on\n",
      "Loading embeddings: 15000\n",
      "Loading embeddings: 16000\n",
      "Loading embeddings: 17000\n",
      "Loading embeddings: 18000\n",
      "Loading embeddings: 19000\n",
      "Loading embeddings: 20000\n"
     ],
     "output_type": "stream"
    }
   ],
   "source": [
    "t_embeddings = text_embeddings.Embeddings()\n",
    "t_embeddings.load_embeddings(fembs, 20000, language = 'default', print_loading = True, skip_first_line = False, normalize = True)\n",
    "t_embeddings.inverse_vocabularies()"
   ],
   "metadata": {
    "collapsed": false,
    "pycharm": {
     "name": "#%%\n",
     "is_executing": false
    }
   }
  },
  {
   "cell_type": "code",
   "execution_count": 5,
   "outputs": [
    {
     "data": {
      "text/plain": "'U.S.A.'"
     },
     "metadata": {},
     "output_type": "execute_result",
     "execution_count": 5
    }
   ],
   "source": [
    "t_embeddings.inverse_vocabularies['default'][14554]"
   ],
   "metadata": {
    "collapsed": false,
    "pycharm": {
     "name": "#%%\n",
     "is_executing": false
    }
   }
  },
  {
   "cell_type": "code",
   "execution_count": null,
   "outputs": [
    {
     "name": "stdout",
     "text": [
      "Incorrect format line!\n",
      "pp. in vocabulary! Skip!\n",
      "No. in vocabulary! Skip!\n",
      "name@domain.com in vocabulary! Skip!\n",
      "Incorrect format line!\n",
      "���������������������������������������������������������������������������������������������������������������������������������������������������������������������������������������������������������������������������������������������������������������������������������������������������������������������������������������������� in vocabulary! Skip!\n",
      "Incorrect format line!\n",
      "no. in vocabulary! Skip!\n",
      "Incorrect format line!\n",
      "A. in vocabulary! Skip!\n",
      "Incorrect format line!\n",
      "p.m. in vocabulary! Skip!\n",
      "s. in vocabulary! Skip!\n",
      "Incorrect format line!\n",
      "Fig. in vocabulary! Skip!\n",
      "Incorrect format line!\n",
      "Incorrect format line!\n",
      "U.S. in vocabulary! Skip!\n",
      "I. in vocabulary! Skip!\n",
      "name@domain.com in vocabulary! Skip!\n",
      "B. in vocabulary! Skip!\n",
      "Q. in vocabulary! Skip!\n",
      "C. in vocabulary! Skip!\n",
      "Incorrect format line!\n",
      "a.m. in vocabulary! Skip!\n",
      "No. in vocabulary! Skip!\n",
      "D. in vocabulary! Skip!\n",
      "a. in vocabulary! Skip!\n",
      "P.S. in vocabulary! Skip!\n",
      "D.C. in vocabulary! Skip!\n",
      "b. in vocabulary! Skip!\n",
      "Incorrect format line!\n",
      "F. in vocabulary! Skip!\n",
      "A. in vocabulary! Skip!\n",
      "c. in vocabulary! Skip!\n",
      "E. in vocabulary! Skip!\n",
      "name@domain.com in vocabulary! Skip!\n",
      "Incorrect format line!\n",
      "Indeed.com in vocabulary! Skip!\n",
      "A. in vocabulary! Skip!\n",
      "B. in vocabulary! Skip!\n",
      "stackoverflow.com in vocabulary! Skip!\n",
      "b. in vocabulary! Skip!\n",
      "No. in vocabulary! Skip!\n",
      "M. in vocabulary! Skip!\n",
      "b. in vocabulary! Skip!\n",
      "a. in vocabulary! Skip!\n",
      "a. in vocabulary! Skip!\n",
      "d. in vocabulary! Skip!\n",
      "X. in vocabulary! Skip!\n",
      "Art. in vocabulary! Skip!\n",
      "name@domain.com in vocabulary! Skip!\n",
      "C. in vocabulary! Skip!\n",
      "V. in vocabulary! Skip!\n",
      "m. in vocabulary! Skip!\n",
      "Incorrect format line!\n",
      "S. in vocabulary! Skip!\n",
      "b. in vocabulary! Skip!\n",
      "Q. in vocabulary! Skip!\n",
      "G. in vocabulary! Skip!\n",
      "J. in vocabulary! Skip!\n",
      "a. in vocabulary! Skip!\n",
      "B.C. in vocabulary! Skip!\n",
      "ca. in vocabulary! Skip!\n",
      "K. in vocabulary! Skip!\n",
      "Incorrect format line!\n",
      "H. in vocabulary! Skip!\n",
      "Pp. in vocabulary! Skip!\n",
      "Incorrect format line!\n",
      "c. in vocabulary! Skip!\n",
      "T. in vocabulary! Skip!\n",
      "e. in vocabulary! Skip!\n",
      "W. in vocabulary! Skip!\n",
      "R. in vocabulary! Skip!\n",
      "t. in vocabulary! Skip!\n",
      "P.M. in vocabulary! Skip!\n",
      "c. in vocabulary! Skip!\n",
      "L. in vocabulary! Skip!\n",
      "D. in vocabulary! Skip!\n",
      "Incorrect format line!\n",
      "B. in vocabulary! Skip!\n",
      "a. in vocabulary! Skip!\n",
      "a. in vocabulary! Skip!\n",
      "A. in vocabulary! Skip!\n",
      "c. in vocabulary! Skip!\n",
      "a. in vocabulary! Skip!\n",
      "A. in vocabulary! Skip!\n",
      "Incorrect format line!\n",
      "b. in vocabulary! Skip!\n",
      "Incorrect format line!\n",
      "NO. in vocabulary! Skip!\n",
      "d. in vocabulary! Skip!\n",
      "A.D. in vocabulary! Skip!\n",
      "C. in vocabulary! Skip!\n",
      "b. in vocabulary! Skip!\n",
      "Y. in vocabulary! Skip!\n",
      "Q. in vocabulary! Skip!\n",
      "name@domain.com in vocabulary! Skip!\n",
      "n. in vocabulary! Skip!\n",
      "U.S.A. in vocabulary! Skip!\n",
      "art. in vocabulary! Skip!\n",
      "B. in vocabulary! Skip!\n",
      "P. in vocabulary! Skip!\n",
      "p.m. in vocabulary! Skip!\n",
      "d. in vocabulary! Skip!\n",
      "N. in vocabulary! Skip!\n",
      "i. in vocabulary! Skip!\n",
      "Incorrect format line!\n",
      "c. in vocabulary! Skip!\n",
      "Incorrect format line!\n",
      "fig. in vocabulary! Skip!\n",
      "d. in vocabulary! Skip!\n",
      "A. in vocabulary! Skip!\n",
      "L.A. in vocabulary! Skip!\n",
      "i. in vocabulary! Skip!\n"
     ],
     "output_type": "stream"
    }
   ],
   "source": [
    "t_embeddings = text_embeddings.Embeddings()\n",
    "t_embeddings.load_embeddings(fembs, None, language = 'default', print_loading = False, skip_first_line = False, normalize = True)\n",
    "t_embeddings.inverse_vocabularies()"
   ],
   "metadata": {
    "collapsed": false,
    "pycharm": {
     "name": "#%%\n",
     "is_executing": true
    }
   }
  },
  {
   "cell_type": "code",
   "execution_count": 13,
   "outputs": [],
   "source": [
    "import numpy as np"
   ],
   "metadata": {
    "collapsed": false,
    "pycharm": {
     "name": "#%%\n",
     "is_executing": false
    }
   }
  },
  {
   "cell_type": "code",
   "execution_count": 14,
   "outputs": [],
   "source": [
    "tvec = t_embeddings.get_vector('default','headquartered')\n",
    "dot = np.dot(tvec, np.transpose(t_embeddings.lang_embeddings['default']))\n",
    "indices = np.argsort(dot)[-1 * (300 + (1 if True else 0)) :][::-1]"
   ],
   "metadata": {
    "collapsed": false,
    "pycharm": {
     "name": "#%%\n",
     "is_executing": false
    }
   }
  },
  {
   "cell_type": "code",
   "execution_count": 15,
   "outputs": [
    {
     "name": "stdout",
     "text": [
      "14554\n"
     ],
     "output_type": "stream"
    }
   ],
   "source": [
    "for ind in indices:\n",
    "    word = t_embeddings.get_word_from_index(ind, lang = 'default')\n",
    "    if word is None:\n",
    "        print(ind)"
   ],
   "metadata": {
    "collapsed": false,
    "pycharm": {
     "name": "#%%\n",
     "is_executing": false
    }
   }
  },
  {
   "cell_type": "code",
   "execution_count": 20,
   "outputs": [
    {
     "traceback": [
      "\u001b[0;31m---------------------------------------------------------------------------\u001b[0m",
      "\u001b[0;31mKeyError\u001b[0m                                  Traceback (most recent call last)",
      "\u001b[0;32m<ipython-input-20-fdc49ecbc1d4>\u001b[0m in \u001b[0;36m<module>\u001b[0;34m\u001b[0m\n\u001b[0;32m----> 1\u001b[0;31m \u001b[0mt_embeddings\u001b[0m\u001b[0;34m.\u001b[0m\u001b[0minverse_vocabularies\u001b[0m\u001b[0;34m[\u001b[0m\u001b[0;34m'default'\u001b[0m\u001b[0;34m]\u001b[0m\u001b[0;34m[\u001b[0m\u001b[0;36m14554\u001b[0m\u001b[0;34m]\u001b[0m\u001b[0;34m\u001b[0m\u001b[0;34m\u001b[0m\u001b[0m\n\u001b[0m",
      "\u001b[0;31mKeyError\u001b[0m: 14554"
     ],
     "ename": "KeyError",
     "evalue": "14554",
     "output_type": "error"
    }
   ],
   "source": [
    "t_embeddings.inverse_vocabularies['default'][14554]"
   ],
   "metadata": {
    "collapsed": false,
    "pycharm": {
     "name": "#%%\n",
     "is_executing": false
    }
   }
  },
  {
   "cell_type": "code",
   "execution_count": 22,
   "outputs": [
    {
     "data": {
      "text/plain": "2"
     },
     "metadata": {},
     "output_type": "execute_result",
     "execution_count": 22
    }
   ],
   "source": [
    "t_embeddings.lang_vocabularies['default']['the']"
   ],
   "metadata": {
    "collapsed": false,
    "pycharm": {
     "name": "#%%\n",
     "is_executing": false
    }
   }
  },
  {
   "cell_type": "code",
   "execution_count": 1,
   "outputs": [],
   "source": [
    "from gensim.models import KeyedVectors"
   ],
   "metadata": {
    "collapsed": false,
    "pycharm": {
     "name": "#%%\n",
     "is_executing": false
    }
   }
  },
  {
   "cell_type": "code",
   "execution_count": 2,
   "outputs": [],
   "source": [
    "word2vec = KeyedVectors.load_word2vec_format('data/embs/GoogleNews-vectors-negative300.bin',limit=200,binary=True)\n",
    "# res = word2vec.save_word2vec_format('data/embs/GoogleNews-vectors-negative300.txt',binary=False)"
   ],
   "metadata": {
    "collapsed": false,
    "pycharm": {
     "name": "#%%\n",
     "is_executing": false
    }
   }
  },
  {
   "cell_type": "code",
   "execution_count": 4,
   "outputs": [
    {
     "data": {
      "text/plain": "False"
     },
     "metadata": {},
     "output_type": "execute_result",
     "execution_count": 4
    }
   ],
   "source": [
    "'goods' in word2vec"
   ],
   "metadata": {
    "collapsed": false,
    "pycharm": {
     "name": "#%%\n",
     "is_executing": false
    }
   }
  },
  {
   "cell_type": "code",
   "execution_count": 6,
   "outputs": [
    {
     "data": {
      "text/plain": "127"
     },
     "metadata": {},
     "output_type": "execute_result",
     "execution_count": 6
    }
   ],
   "source": [
    "word2vec.vocab['good'].index"
   ],
   "metadata": {
    "collapsed": false,
    "pycharm": {
     "name": "#%%\n",
     "is_executing": false
    }
   }
  },
  {
   "cell_type": "code",
   "execution_count": 9,
   "outputs": [
    {
     "data": {
      "text/plain": "array([ 0.04052734,  0.0625    , -0.01745605,  0.07861328,  0.03271484],\n      dtype=float32)"
     },
     "metadata": {},
     "output_type": "execute_result",
     "execution_count": 9
    }
   ],
   "source": [
    "word2vec['good'][:5]"
   ],
   "metadata": {
    "collapsed": false,
    "pycharm": {
     "name": "#%%\n",
     "is_executing": false
    }
   }
  },
  {
   "cell_type": "code",
   "execution_count": 11,
   "outputs": [
    {
     "data": {
      "text/plain": "array([ 0.04052734,  0.0625    , -0.01745605,  0.07861328,  0.03271484],\n      dtype=float32)"
     },
     "metadata": {},
     "output_type": "execute_result",
     "execution_count": 11
    }
   ],
   "source": [
    "word2vec.vectors[127][:5]"
   ],
   "metadata": {
    "collapsed": false,
    "pycharm": {
     "name": "#%%\n",
     "is_executing": false
    }
   }
  },
  {
   "cell_type": "code",
   "execution_count": 12,
   "outputs": [],
   "source": [
    "word2vec.init_sims(True)"
   ],
   "metadata": {
    "collapsed": false,
    "pycharm": {
     "name": "#%%\n",
     "is_executing": false
    }
   }
  },
  {
   "cell_type": "code",
   "execution_count": 13,
   "outputs": [],
   "source": [
    "from numpy.linalg import norm"
   ],
   "metadata": {
    "collapsed": false,
    "pycharm": {
     "name": "#%%\n",
     "is_executing": false
    }
   }
  },
  {
   "cell_type": "code",
   "execution_count": 14,
   "outputs": [
    {
     "data": {
      "text/plain": "1.0"
     },
     "metadata": {},
     "output_type": "execute_result",
     "execution_count": 14
    }
   ],
   "source": [
    "norm(word2vec['good'])"
   ],
   "metadata": {
    "collapsed": false,
    "pycharm": {
     "name": "#%%\n",
     "is_executing": false
    }
   }
  },
  {
   "cell_type": "code",
   "execution_count": 15,
   "outputs": [
    {
     "data": {
      "text/plain": "[('great', 0.7291510701179504),\n ('bad', 0.7190051674842834),\n ('terrific', 0.6889115571975708),\n ('decent', 0.6837348341941833),\n ('nice', 0.6836091876029968),\n ('excellent', 0.644292950630188),\n ('fantastic', 0.6407778263092041),\n ('better', 0.6120728254318237),\n ('solid', 0.5806035399436951),\n ('lousy', 0.5764201879501343)]"
     },
     "metadata": {},
     "output_type": "execute_result",
     "execution_count": 15
    }
   ],
   "source": [
    "word2vec.similar_by_word('good')"
   ],
   "metadata": {
    "collapsed": false,
    "pycharm": {
     "name": "#%%\n",
     "is_executing": false
    }
   }
  },
  {
   "cell_type": "code",
   "execution_count": 16,
   "outputs": [
    {
     "data": {
      "text/plain": "['great',\n 'bad',\n 'terrific',\n 'decent',\n 'nice',\n 'excellent',\n 'fantastic',\n 'better',\n 'solid',\n 'lousy']"
     },
     "metadata": {},
     "output_type": "execute_result",
     "execution_count": 16
    }
   ],
   "source": [
    "[word for word,vec in word2vec.similar_by_word('good')]"
   ],
   "metadata": {
    "collapsed": false,
    "pycharm": {
     "name": "#%%\n",
     "is_executing": false
    }
   }
  },
  {
   "cell_type": "code",
   "execution_count": 5,
   "outputs": [],
   "source": [
    "from pathlib import Path"
   ],
   "metadata": {
    "collapsed": false,
    "pycharm": {
     "name": "#%%\n",
     "is_executing": false
    }
   }
  },
  {
   "cell_type": "code",
   "execution_count": 6,
   "outputs": [],
   "source": [
    "p = Path('data/tobe_simplified/lex_mturk_sen.txt')\n",
    "lines = p.read_text().split('\\n')"
   ],
   "metadata": {
    "collapsed": false,
    "pycharm": {
     "name": "#%%\n",
     "is_executing": false
    }
   }
  },
  {
   "cell_type": "code",
   "execution_count": 8,
   "outputs": [
    {
     "data": {
      "text/plain": "'This message earned Saddam a great deal of popularity in many sectors of the Arab world .'"
     },
     "metadata": {},
     "output_type": "execute_result",
     "execution_count": 8
    }
   ],
   "source": [
    "lines[-2]"
   ],
   "metadata": {
    "collapsed": false,
    "pycharm": {
     "name": "#%%\n",
     "is_executing": false
    }
   }
  }
 ],
 "metadata": {
  "kernelspec": {
   "display_name": "Python 3",
   "language": "python",
   "name": "python3"
  },
  "language_info": {
   "codemirror_mode": {
    "name": "ipython",
    "version": 2
   },
   "file_extension": ".py",
   "mimetype": "text/x-python",
   "name": "python",
   "nbconvert_exporter": "python",
   "pygments_lexer": "ipython2",
   "version": "2.7.6"
  },
  "pycharm": {
   "stem_cell": {
    "cell_type": "raw",
    "source": [],
    "metadata": {
     "collapsed": false
    }
   }
  }
 },
 "nbformat": 4,
 "nbformat_minor": 0
}