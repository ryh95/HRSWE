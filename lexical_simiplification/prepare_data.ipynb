{
 "cells": [
  {
   "cell_type": "code",
   "execution_count": 1,
   "metadata": {
    "collapsed": true,
    "pycharm": {
     "name": "#%%\n",
     "is_executing": false
    }
   },
   "outputs": [],
   "source": [
    "import nltk\n",
    "import pickle\n",
    "import numpy as np\n",
    "from os.path import join\n",
    "from gensim.models import KeyedVectors\n",
    "from constants import THESAURUS_DIR, ORIGINAL_VECS_DIR, ORIGINAL_EMBEDDING\n",
    "from preprocess import GeneralTextProcesser"
   ]
  },
  {
   "cell_type": "code",
   "execution_count": 2,
   "outputs": [],
   "source": [
    "with open('task_data/lex.mturk.txt','r',encoding='iso-8859-1') as f,\\\n",
    "     open('task_data/lex_mturk_sen.txt','w') as f_sen,\\\n",
    "     open('task_data/targets.pickle','wb') as f_targets,\\\n",
    "     open('task_data/candidates.pickle','wb') as f_candidates:\n",
    "     # open('task_data/pos_tags.pickle','wb') as f_pos_tags:\n",
    "    f_str = f.readline()\n",
    "    targets,candidates,pos_tags = [],[],[]\n",
    "    for l in f:\n",
    "        sen,target,*candidate = l.strip().split('\\t')\n",
    "        # sen_pos = nltk.pos_tag(sen.split())\n",
    "        # id = [w for w,tag in sen_pos].index(target)\n",
    "        # target_pos = [tag for w,tag in sen_pos][id]\n",
    "        f_sen.write(sen+'\\n')\n",
    "        # pos_tags.append(target_pos)\n",
    "        targets.append(target)\n",
    "        candidates.append(set(candidate))\n",
    "    pickle.dump(targets,f_targets,protocol=pickle.HIGHEST_PROTOCOL)\n",
    "    pickle.dump(candidates,f_candidates,protocol=pickle.HIGHEST_PROTOCOL)\n",
    "    # pickle.dump(pos_tags,f_pos_tags,pickle.HIGHEST_PROTOCOL)"
   ],
   "metadata": {
    "collapsed": false,
    "pycharm": {
     "name": "#%%\n",
     "is_executing": false
    }
   }
  },
  {
   "cell_type": "code",
   "execution_count": 3,
   "outputs": [],
   "source": [
    "from pathlib import Path\n",
    "import stanza"
   ],
   "metadata": {
    "collapsed": false,
    "pycharm": {
     "name": "#%%\n",
     "is_executing": false
    }
   }
  },
  {
   "cell_type": "code",
   "execution_count": 4,
   "outputs": [
    {
     "name": "stderr",
     "text": [
      "2020-05-11 17:58:20 INFO: Loading these models for language: en (English):\n",
      "=======================\n",
      "| Processor | Package |\n",
      "-----------------------\n",
      "| tokenize  | ewt     |\n",
      "| pos       | ewt     |\n",
      "=======================\n",
      "\n",
      "2020-05-11 17:58:20 INFO: Use device: gpu\n",
      "2020-05-11 17:58:20 INFO: Loading: tokenize\n",
      "2020-05-11 17:58:20 INFO: Loading: pos\n",
      "2020-05-11 17:58:23 INFO: Done loading processors!\n"
     ],
     "output_type": "stream"
    }
   ],
   "source": [
    "# prepare pos tags of target words\n",
    "lines = Path('task_data/lex_mturk_sen.txt').read_text()\n",
    "sens = [line.split() for line in lines.split('\\n')[:-1]]\n",
    "nlp = stanza.Pipeline('en',processors='tokenize,pos',tokenize_pretokenized=True)\n",
    "doc = nlp(sens)"
   ],
   "metadata": {
    "collapsed": false,
    "pycharm": {
     "name": "#%%\n",
     "is_executing": false
    }
   }
  },
  {
   "cell_type": "code",
   "execution_count": 5,
   "outputs": [],
   "source": [
    "pos_tags = []\n",
    "for doc_sentence,target,sen in zip(doc.sentences,targets,sens):\n",
    "    id = sen.index(target)\n",
    "    word = doc_sentence.words[id]\n",
    "    pos_tags.append(word.xpos)"
   ],
   "metadata": {
    "collapsed": false,
    "pycharm": {
     "name": "#%%\n",
     "is_executing": false
    }
   }
  },
  {
   "cell_type": "code",
   "execution_count": 6,
   "outputs": [],
   "source": [
    "with open('pos_tags.pickle','wb') as f:\n",
    "    pickle.dump(pos_tags,f,pickle.HIGHEST_PROTOCOL)"
   ],
   "metadata": {
    "collapsed": false,
    "pycharm": {
     "name": "#%%\n",
     "is_executing": false
    }
   }
  },
  {
   "cell_type": "code",
   "execution_count": null,
   "outputs": [],
   "source": [
    "with open('../data/original_vecs/SIMLEX999_SIMVERB3000-test_SIMVERB500-dev.pickle','rb') as f:\n",
    "    ori_clf_vecs = pickle.load(f)"
   ],
   "metadata": {
    "collapsed": false,
    "pycharm": {
     "name": "#%%\n"
    }
   }
  },
  {
   "cell_type": "code",
   "execution_count": 33,
   "outputs": [
    {
     "data": {
      "text/plain": "3.4676987700915958"
     },
     "metadata": {},
     "output_type": "execute_result",
     "execution_count": 33
    }
   ],
   "source": [
    "# ordered dict\n",
    "np.linalg.norm(ori_clf_vecs['poach']) "
   ],
   "metadata": {
    "collapsed": false,
    "pycharm": {
     "name": "#%%\n",
     "is_executing": false
    }
   }
  },
  {
   "cell_type": "code",
   "execution_count": 2,
   "outputs": [],
   "source": [
    "# prepare vocab\n",
    "vocab = set()\n",
    "with open('task_data/lex_mturk_sen.txt','r') as f:\n",
    "    for l in f:\n",
    "        vocab |= set(l.split()) \n",
    "\n",
    "with open('task_data/candidates.pickle', 'rb') as f:\n",
    "    candidates = pickle.load(f)\n",
    "\n",
    "with open('task_data/targets.pickle', 'rb') as f:\n",
    "    targets = pickle.load(f)"
   ],
   "metadata": {
    "collapsed": false,
    "pycharm": {
     "name": "#%%\n",
     "is_executing": false
    }
   }
  },
  {
   "cell_type": "code",
   "execution_count": 3,
   "outputs": [],
   "source": [
    "all_cands = set()\n",
    "for s in candidates:\n",
    "    all_cands |= s\n",
    "\n",
    "vocab = vocab | set(targets) | all_cands"
   ],
   "metadata": {
    "collapsed": false,
    "pycharm": {
     "name": "#%%\n",
     "is_executing": false
    }
   }
  },
  {
   "cell_type": "code",
   "execution_count": 4,
   "outputs": [
    {
     "data": {
      "text/plain": "7782"
     },
     "metadata": {},
     "output_type": "execute_result",
     "execution_count": 4
    }
   ],
   "source": [
    "len(vocab)"
   ],
   "metadata": {
    "collapsed": false,
    "pycharm": {
     "name": "#%%\n",
     "is_executing": false
    }
   }
  },
  {
   "cell_type": "code",
   "execution_count": 5,
   "outputs": [],
   "source": [
    "from utils import generate_sub_thesauri\n",
    "from os.path import join\n",
    "from constants import THESAURUS_DIR"
   ],
   "metadata": {
    "collapsed": false,
    "pycharm": {
     "name": "#%%\n",
     "is_executing": false
    }
   }
  },
  {
   "cell_type": "code",
   "execution_count": 6,
   "outputs": [],
   "source": [
    "generate_sub_thesauri(join(THESAURUS_DIR, 'synonyms.txt'),'synonyms.txt',vocab)"
   ],
   "metadata": {
    "collapsed": false,
    "pycharm": {
     "name": "#%%\n",
     "is_executing": false
    }
   }
  },
  {
   "cell_type": "code",
   "execution_count": 7,
   "outputs": [],
   "source": [
    "generate_sub_thesauri(join(THESAURUS_DIR, 'antonyms.txt'),'antonyms.txt',vocab)"
   ],
   "metadata": {
    "collapsed": false,
    "pycharm": {
     "name": "#%%\n",
     "is_executing": false
    }
   }
  },
  {
   "cell_type": "code",
   "execution_count": 8,
   "outputs": [],
   "source": [
    "# check constrain vocab\n",
    "constrain_vocab = set()\n",
    "with open('synonyms.txt','r') as f:\n",
    "    for l in f:\n",
    "        constrain_vocab.update([w[3:] for w in l.split()])\n",
    "with open('antonyms.txt','r') as f:\n",
    "    for l in f:\n",
    "        constrain_vocab.update([w[3:] for w in l.split()])"
   ],
   "metadata": {
    "collapsed": false,
    "pycharm": {
     "name": "#%%\n",
     "is_executing": false
    }
   }
  },
  {
   "cell_type": "code",
   "execution_count": 9,
   "outputs": [
    {
     "data": {
      "text/plain": "'3758,459,4232'"
     },
     "metadata": {},
     "output_type": "execute_result",
     "execution_count": 9
    }
   ],
   "source": [
    "f'{len(constrain_vocab)},{len(set(targets))},{len(all_cands)}'"
   ],
   "metadata": {
    "collapsed": false,
    "pycharm": {
     "name": "#%%\n",
     "is_executing": false
    }
   }
  },
  {
   "cell_type": "code",
   "execution_count": 10,
   "outputs": [
    {
     "data": {
      "text/plain": "0.736"
     },
     "metadata": {},
     "output_type": "execute_result",
     "execution_count": 10
    }
   ],
   "source": [
    "# constrain vocab / target vocab\n",
    "t_c_vocab = set(targets) & constrain_vocab\n",
    "len(t_c_vocab)/len(targets)"
   ],
   "metadata": {
    "collapsed": false,
    "pycharm": {
     "name": "#%%\n",
     "is_executing": false
    }
   }
  },
  {
   "cell_type": "code",
   "execution_count": 11,
   "outputs": [
    {
     "data": {
      "text/plain": "0.554820415879017"
     },
     "metadata": {},
     "output_type": "execute_result",
     "execution_count": 11
    }
   ],
   "source": [
    "# constrain vocab / candidate vocab\n",
    "c_c_vocab = all_cands & constrain_vocab\n",
    "len(c_c_vocab)/len(all_cands)"
   ],
   "metadata": {
    "collapsed": false,
    "pycharm": {
     "name": "#%%\n",
     "is_executing": false
    }
   }
  },
  {
   "cell_type": "code",
   "execution_count": 12,
   "outputs": [
    {
     "name": "stdout",
     "text": [
      "preparing vocab vectors\n",
      "7782 words in vocab, 1564 words not found in word embedding file, init them with random numbers\n",
      "saving vocab vector file\n"
     ],
     "output_type": "stream"
    }
   ],
   "source": [
    "l_vocab = list(vocab)\n",
    "text_preprocesser = GeneralTextProcesser()\n",
    "emb_dict,_ = text_preprocesser.vocab2vec(l_vocab, ORIGINAL_VECS_DIR, 'lexical_simplification', ORIGINAL_EMBEDDING,\n",
    "                                       ['pickle','npy'], 'word2vec', normalize=False, oov_handle='random')"
   ],
   "metadata": {
    "collapsed": false,
    "pycharm": {
     "name": "#%%\n",
     "is_executing": false
    }
   }
  },
  {
   "cell_type": "code",
   "execution_count": 13,
   "outputs": [],
   "source": [
    "l_c_vocab = list(constrain_vocab)\n",
    "l_c_vocab_emb_dict = {w: emb_dict[w] for w in l_c_vocab}\n",
    "with open('lexical_simplification_constrain.pickle','wb') as f:\n",
    "    pickle.dump(l_c_vocab_emb_dict,f,pickle.HIGHEST_PROTOCOL)"
   ],
   "metadata": {
    "collapsed": false,
    "pycharm": {
     "name": "#%%\n",
     "is_executing": false
    }
   }
  },
  {
   "cell_type": "code",
   "execution_count": 14,
   "outputs": [],
   "source": [
    "np.save('lexical_simplification.npy',l_vocab)\n",
    "np.save('lexical_simplification_constrain.npy',l_c_vocab)"
   ],
   "metadata": {
    "collapsed": false,
    "pycharm": {
     "name": "#%%\n",
     "is_executing": false
    }
   }
  },
  {
   "cell_type": "code",
   "execution_count": 42,
   "outputs": [],
   "source": [
    "word2vec = KeyedVectors.load_word2vec_format('../data/original_vecs/GoogleNews-vectors-negative300.bin',binary=True)"
   ],
   "metadata": {
    "collapsed": false,
    "pycharm": {
     "name": "#%%\n",
     "is_executing": false
    }
   }
  },
  {
   "cell_type": "code",
   "execution_count": 47,
   "outputs": [],
   "source": [
    "extended_targets = set()\n",
    "for w in set(targets):\n",
    "    if w in word2vec:\n",
    "        extended_targets |= {w_[0] for w_ in word2vec.similar_by_word(w,50)}"
   ],
   "metadata": {
    "collapsed": false,
    "pycharm": {
     "name": "#%%\n",
     "is_executing": false
    }
   }
  },
  {
   "cell_type": "code",
   "execution_count": 48,
   "outputs": [
    {
     "data": {
      "text/plain": "17943"
     },
     "metadata": {},
     "output_type": "execute_result",
     "execution_count": 48
    }
   ],
   "source": [
    "len(extended_targets) "
   ],
   "metadata": {
    "collapsed": false,
    "pycharm": {
     "name": "#%%\n",
     "is_executing": false
    }
   }
  }
 ],
 "metadata": {
  "kernelspec": {
   "name": "python3",
   "language": "python",
   "display_name": "Python 3"
  },
  "language_info": {
   "codemirror_mode": {
    "name": "ipython",
    "version": 2
   },
   "file_extension": ".py",
   "mimetype": "text/x-python",
   "name": "python",
   "nbconvert_exporter": "python",
   "pygments_lexer": "ipython2",
   "version": "2.7.6"
  },
  "pycharm": {
   "stem_cell": {
    "cell_type": "raw",
    "source": [],
    "metadata": {
     "collapsed": false
    }
   }
  }
 },
 "nbformat": 4,
 "nbformat_minor": 0
}